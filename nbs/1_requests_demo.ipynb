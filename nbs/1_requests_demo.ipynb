{
 "cells": [
  {
   "cell_type": "code",
   "execution_count": null,
   "id": "2c1e693e-7329-4ffd-a504-08afe1d5eb0e",
   "metadata": {},
   "outputs": [],
   "source": [
    "import requests"
   ]
  },
  {
   "cell_type": "markdown",
   "id": "b0fd08f9-3860-4334-8201-a974cd95a41f",
   "metadata": {},
   "source": [
    "With requests we get a response object with plenty of attributes"
   ]
  },
  {
   "cell_type": "code",
   "execution_count": null,
   "id": "9446a94d-7bc0-4c20-aa4d-0c2e6f0a32f1",
   "metadata": {},
   "outputs": [],
   "source": [
    "response = requests.get(\"https://api.github.com\")"
   ]
  },
  {
   "cell_type": "markdown",
   "id": "a60cd601-9e54-44ff-961b-5db70783ae67",
   "metadata": {},
   "source": [
    "### Status Code\n",
    "A status code informs you of the status of the request.\n",
    "By accessing .status_code, you can see the status code that the server returned"
   ]
  },
  {
   "cell_type": "code",
   "execution_count": null,
   "id": "e021ca76-afe2-4583-a179-b123bb6b6ae3",
   "metadata": {},
   "outputs": [],
   "source": [
    "response.status_code"
   ]
  },
  {
   "cell_type": "code",
   "execution_count": null,
   "id": "cfaa1d91-99b3-4529-bb81-41d62bd4b2c2",
   "metadata": {},
   "outputs": [],
   "source": [
    "if response.status_code == 200:\n",
    "    print('Success!')\n",
    "elif response.status_code == 404:\n",
    "    print('Not Found.')"
   ]
  },
  {
   "cell_type": "code",
   "execution_count": null,
   "id": "a450be98-1cf4-490e-9118-b52ceb4dd4eb",
   "metadata": {},
   "outputs": [],
   "source": [
    "if response:\n",
    "    print('Success!')\n",
    "else:\n",
    "    print('An error has occurred.')"
   ]
  },
  {
   "cell_type": "markdown",
   "id": "2b8c1739-ad97-4c81-b96e-9542dbe59abb",
   "metadata": {},
   "source": [
    "### Content\n",
    "You will see the response in bytes with:"
   ]
  },
  {
   "cell_type": "code",
   "execution_count": null,
   "id": "6bd90330-21d4-42af-95da-bdb3eab64cda",
   "metadata": {},
   "outputs": [],
   "source": [
    "response.content"
   ]
  },
  {
   "cell_type": "markdown",
   "id": "98262708-5cb5-4f53-999f-90e4f9ae2f07",
   "metadata": {},
   "source": [
    "To see the response in string:"
   ]
  },
  {
   "cell_type": "code",
   "execution_count": null,
   "id": "cbdbc33d-2bb0-473e-bdb7-b83d239d23ed",
   "metadata": {},
   "outputs": [],
   "source": [
    "response.text"
   ]
  },
  {
   "cell_type": "markdown",
   "id": "1e616ccd-b452-4c82-830a-7fef2f23db00",
   "metadata": {},
   "source": [
    "To get a dict we can simply use this method:"
   ]
  },
  {
   "cell_type": "code",
   "execution_count": null,
   "id": "c811a355-29f1-4e54-acab-767efbd5c3c4",
   "metadata": {},
   "outputs": [],
   "source": [
    "response.json()"
   ]
  },
  {
   "cell_type": "markdown",
   "id": "7c5f8965-a5b0-4bfd-ae31-275497b07e48",
   "metadata": {},
   "source": [
    "### Headers"
   ]
  },
  {
   "cell_type": "markdown",
   "id": "758655a1-c127-46a8-b70a-a36ad28d7315",
   "metadata": {},
   "source": [
    "The response headers can give you useful information, such as the content type of the response payload and a time limit on how long to cache the response. To view these headers, access .headers"
   ]
  },
  {
   "cell_type": "code",
   "execution_count": null,
   "id": "c8ee1e6a-acd8-4e96-89f1-c1a01985c336",
   "metadata": {},
   "outputs": [],
   "source": [
    "response.headers"
   ]
  },
  {
   "cell_type": "markdown",
   "id": "b7941722-af88-4ea0-94a8-cf1eec8d40bb",
   "metadata": {},
   "source": [
    "### Query String Parameters\n",
    "One common way to customize a GET request is to pass values through query string parameters in the URL. To do this using get(), you pass data to params. For example, you can use GitHub’s Search API to look for the requests library:\n",
    "\n"
   ]
  },
  {
   "cell_type": "code",
   "execution_count": null,
   "id": "24b64c42-79ab-49e7-9ab5-3e334d81b5b8",
   "metadata": {},
   "outputs": [],
   "source": [
    "# Search GitHub's repositories for requests\n",
    "response = requests.get(\n",
    "    \"https://api.github.com/search/repositories\",\n",
    "    params={\"q\": \"requests+language:python\"},\n",
    ")\n",
    "\n",
    "# Inspect some attributes of the `requests` repository\n",
    "json_response = response.json()\n",
    "repository = json_response[\"items\"][0]\n",
    "print(f'Repository name: {repository[\"name\"]}')  # Python 3.6+\n",
    "print(f'Repository description: {repository[\"description\"]}')  # Python 3.6+"
   ]
  },
  {
   "cell_type": "markdown",
   "id": "dd725d35-9ef4-46fe-b2fc-43f1b2506902",
   "metadata": {},
   "source": [
    "If you need to pass more than one param, you just can simply do:"
   ]
  },
  {
   "cell_type": "code",
   "execution_count": null,
   "id": "f69b2e9e-89d5-41fd-960e-baf47ddf78e3",
   "metadata": {},
   "outputs": [],
   "source": [
    "requests.get(\n",
    "    \"https://api.github.com/search/repositories\",\n",
    "    params=[(\"q\", \"requests+language:python\")])"
   ]
  },
  {
   "cell_type": "markdown",
   "id": "25ff8a52-bb55-4703-a197-98e466ccd4e3",
   "metadata": {},
   "source": [
    "### Request Headers\n",
    "To customize headers, you pass a dictionary of HTTP headers to get() using the headers parameter"
   ]
  },
  {
   "cell_type": "code",
   "execution_count": null,
   "id": "d074be6f-f25b-4696-bfb5-82103a69f203",
   "metadata": {},
   "outputs": [],
   "source": [
    "response = requests.get(\n",
    "    \"https://api.github.com/search/repositories\",\n",
    "    params={\"q\": \"requests+language:python\"},\n",
    "    headers={\"Accept\": \"application/vnd.github.v3.text-match+json\"},\n",
    ")\n",
    "\n",
    "# View the new `text-matches` array which provides information\n",
    "# about your search term within the results\n",
    "json_response = response.json()\n",
    "repository = json_response[\"items\"][0]\n",
    "print(f'Text matches: {repository[\"text_matches\"]}')"
   ]
  },
  {
   "cell_type": "markdown",
   "id": "2ffa44cf-446b-4b06-8d36-9a017215bbb3",
   "metadata": {},
   "source": [
    "### Other HTTP Methods\n",
    "Aside from GET, other popular HTTP methods include POST, PUT, DELETE, HEAD, PATCH, and OPTIONS. requests provides a method, with a similar signature to get(), for each of these HTTP methods:"
   ]
  },
  {
   "cell_type": "code",
   "execution_count": null,
   "id": "9ede7597-a1a9-4d14-8252-24da2bfeb030",
   "metadata": {},
   "outputs": [],
   "source": [
    "requests.post('https://httpbin.org/post', data={'key':'value'})\n",
    "requests.put('https://httpbin.org/put', data={'key':'value'})\n",
    "requests.delete('https://httpbin.org/delete')\n",
    "requests.head('https://httpbin.org/get')\n",
    "requests.patch('https://httpbin.org/patch', data={'key':'value'})\n",
    "requests.options('https://httpbin.org/get')"
   ]
  },
  {
   "cell_type": "markdown",
   "id": "6d353d01-212a-43ca-bd46-f2651b5e5a9e",
   "metadata": {},
   "source": [
    "#### Take a deeper look:"
   ]
  },
  {
   "cell_type": "markdown",
   "id": "896651bf-56db-4d02-8ef4-2d61b483a26f",
   "metadata": {},
   "source": [
    "Reference: [real-python](https://realpython.com/python-requests/)"
   ]
  },
  {
   "cell_type": "code",
   "execution_count": null,
   "id": "7c4c8725-9942-48bd-9b58-76195ad308e6",
   "metadata": {},
   "outputs": [],
   "source": []
  }
 ],
 "metadata": {
  "kernelspec": {
   "display_name": "Python 3 (ipykernel)",
   "language": "python",
   "name": "python3"
  },
  "language_info": {
   "codemirror_mode": {
    "name": "ipython",
    "version": 3
   },
   "file_extension": ".py",
   "mimetype": "text/x-python",
   "name": "python",
   "nbconvert_exporter": "python",
   "pygments_lexer": "ipython3",
   "version": "3.9.10"
  }
 },
 "nbformat": 4,
 "nbformat_minor": 5
}
