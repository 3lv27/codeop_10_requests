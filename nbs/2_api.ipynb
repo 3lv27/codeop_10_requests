{
 "cells": [
  {
   "cell_type": "markdown",
   "id": "efd69fb9-4138-427a-96b6-96a15934eea8",
   "metadata": {},
   "source": [
    "# NASA API\n",
    "[website](https://api.nasa.gov/)"
   ]
  },
  {
   "cell_type": "markdown",
   "id": "33e4d871-3ecd-49df-8bd2-41327f85c5ab",
   "metadata": {},
   "source": [
    "1. Complete the form to get your api key\n",
    "2. Explore the docs and play with the diferent methods with Postman\n",
    "3. Explore the Asteroids - NeoWs endpoint.\n",
    "4. Create your own db with PostgreSQL with the most recent info from the last 2 years"
   ]
  },
  {
   "cell_type": "code",
   "execution_count": null,
   "id": "bf60ce3b-1801-4684-89e4-1fdac837d10f",
   "metadata": {},
   "outputs": [],
   "source": []
  }
 ],
 "metadata": {
  "kernelspec": {
   "display_name": "Python 3 (ipykernel)",
   "language": "python",
   "name": "python3"
  },
  "language_info": {
   "codemirror_mode": {
    "name": "ipython",
    "version": 3
   },
   "file_extension": ".py",
   "mimetype": "text/x-python",
   "name": "python",
   "nbconvert_exporter": "python",
   "pygments_lexer": "ipython3",
   "version": "3.9.10"
  }
 },
 "nbformat": 4,
 "nbformat_minor": 5
}
